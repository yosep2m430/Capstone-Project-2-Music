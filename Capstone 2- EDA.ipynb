{
 "cells": [
  {
   "cell_type": "markdown",
   "id": "ecffd62a",
   "metadata": {},
   "source": [
    "## Exploratory Data Analysis (EDA)"
   ]
  },
  {
   "cell_type": "markdown",
   "id": "9d5c00f8",
   "metadata": {},
   "source": [
    "Conducting EDA on US top charting songs from 1921- 2020 to examine relationship between variables and other patterns in the data."
   ]
  },
  {
   "cell_type": "code",
   "execution_count": 1,
   "id": "a168a0eb",
   "metadata": {},
   "outputs": [],
   "source": [
    "import pandas as pd\n",
    "import matplotlib.pyplot as plt\n",
    "import numpy as np\n",
    "import seaborn as sns\n",
    "from sklearn.decomposition import PCA\n",
    "from sklearn.preprocessing import scale\n",
    "\n",
    "# shows plots inline\n",
    "%matplotlib inline"
   ]
  },
  {
   "cell_type": "code",
   "execution_count": null,
   "id": "40cbff9a",
   "metadata": {},
   "outputs": [],
   "source": [
    "# To suppress future warnings\n",
    "import warnings\n",
    "warnings.simplefilter(action='ignore', category=FutureWarning)\n",
    "warnings.simplefilter(action='ignore', category=UserWarning)\n",
    "\n"
   ]
  },
  {
   "cell_type": "code",
   "execution_count": null,
   "id": "79c505c1",
   "metadata": {},
   "outputs": [],
   "source": [
    "df=pd.read_csv('/Users/josephlim/Desktop/Data Science/Capstone Projects/Capstone project- Spotify/Data/Cleaned Data/US_1921-2020_final.csv')"
   ]
  },
  {
   "cell_type": "code",
   "execution_count": null,
   "id": "fa5a14dc",
   "metadata": {},
   "outputs": [],
   "source": [
    "df.shape"
   ]
  },
  {
   "cell_type": "code",
   "execution_count": null,
   "id": "ecf467d0",
   "metadata": {},
   "outputs": [],
   "source": [
    "df.head()"
   ]
  },
  {
   "cell_type": "code",
   "execution_count": null,
   "id": "60ef9d73",
   "metadata": {
    "scrolled": true
   },
   "outputs": [],
   "source": [
    "df.info()"
   ]
  },
  {
   "cell_type": "markdown",
   "id": "564960ef",
   "metadata": {},
   "source": [
    "### Spotify Audio Features"
   ]
  },
  {
   "cell_type": "markdown",
   "id": "558ed045",
   "metadata": {},
   "source": [
    "Spotify provides breaks down its track data using its audio features. The Spotify Web API developer guide defines them as follows:\n",
    "- Duration: The duration of the track in milliseconds.\n",
    "- Danceability: Describes how suitable a track is for dancing based on a combination of musical elements including tempo, rhythm stability, beat strength, and overall regularity.\n",
    "- Energy: Represents a perceptual measure of intensity and activity. Typically, energetic tracks feel fast, loud, and noisy. For example, death metal has high energy, while a Bach prelude scores low on the scale.\n",
    "- Key: The estimated overall key of the track. Integers map to pitches using standard Pitch Class notation . E.g. 0 = C, 1 = C♯/D♭, 2 = D, and so on.\n",
    "- Loudness: The overall loudness of a track in decibels (dB). Loudness values are averaged across the entire track and are useful for comparing relative loudness of tracks.\n",
    "- Mode: Indicates the modality (major or minor) of a track, the type of scale from which its melodic content is derived. Major is represented by 1 and minor is 0.\n",
    "- Speechiness: This detects the presence of spoken words in a track. The more exclusively speech-like the recording (e.g. talk show, audio book, poetry), the closer to 1.0 the attribute value.\n",
    "- Acousticness: A confidence measure from 0.0 to 1.0 of whether the track is acoustic.\n",
    "- Instrumentalness: Predicts whether a track contains no vocals. “Ooh” and “aah” sounds are treated as instrumental in this context. Rap or spoken word tracks are clearly “vocal”.\n",
    "- Liveness: Detects the presence of an audience in the recording. Higher liveness values represent an increased probability that the track was performed live.\n",
    "- Valence: Describes the musical positiveness conveyed by a track. Tracks with high valence sound more positive (e.g. happy, cheerful, euphoric), while tracks with low valence sound more negative (e.g. sad, depressed, angry).\n",
    "- Tempo: The overall estimated tempo of a track in beats per minute (BPM). In musical terminology, tempo is the speed or pace of a given piece, and derives directly from the average beat duration.\n",
    "- Time signature: An estimated overall time signature of a track. The time signature (meter) is a notational convention to specify how many beats are in each bar (or measure).\n",
    "\n",
    "Because the term \"mode\" can be confusing given the context of statistical analysis, it will be referred to as \"musical mode\"(m_mode)"
   ]
  },
  {
   "cell_type": "code",
   "execution_count": null,
   "id": "dc82cc62",
   "metadata": {},
   "outputs": [],
   "source": [
    "df_m= df.rename(columns={'mode':'m_mode'})"
   ]
  },
  {
   "cell_type": "markdown",
   "id": "8fc05baa",
   "metadata": {},
   "source": [
    "### Distributions of Data\n",
    "#### Categorical features\n",
    "There are two categorical features in this datasets: key and mode. "
   ]
  },
  {
   "cell_type": "code",
   "execution_count": null,
   "id": "fc144d11",
   "metadata": {},
   "outputs": [],
   "source": [
    "df_cat=df_m[['key','m_mode']].copy()"
   ]
  },
  {
   "cell_type": "code",
   "execution_count": null,
   "id": "703ef68a",
   "metadata": {},
   "outputs": [],
   "source": [
    "df_cat.head()"
   ]
  },
  {
   "cell_type": "markdown",
   "id": "e247d501",
   "metadata": {},
   "source": [
    "Keys are denoted as numbers.0 represents C, and each index represents a semitone increase in key. Musical mode is also denoted as integers, but it is a binary data that indicates whether the song is a major/ minor key. 0 represents minor keys, while 1 represents major.\n",
    "\n",
    "Values will be replaced to reflect corresponding categories."
   ]
  },
  {
   "cell_type": "code",
   "execution_count": null,
   "id": "4e35bee3",
   "metadata": {},
   "outputs": [],
   "source": [
    "df_cat['key'].replace({0:'C',1:'C#', 2:'D', 3:'D#', 4:'E', 5:'F', 6:'F#',7:'G',8:'Ab', 9:'A', 10:'Bb',11:'B'}, inplace=True)\n",
    "df_cat['m_mode'].replace({0:'minor',1:'major'}, inplace=True)"
   ]
  },
  {
   "cell_type": "code",
   "execution_count": null,
   "id": "d5fdf2ea",
   "metadata": {
    "scrolled": true
   },
   "outputs": [],
   "source": [
    "df_cat['key'].value_counts()"
   ]
  },
  {
   "cell_type": "code",
   "execution_count": null,
   "id": "bb8b7d22",
   "metadata": {},
   "outputs": [],
   "source": [
    "key_order= ['C','C#','D','D#', 'E', 'F','F#','G', 'Ab','A','Bb','B' ]"
   ]
  },
  {
   "cell_type": "code",
   "execution_count": null,
   "id": "89fdcbac",
   "metadata": {
    "scrolled": true
   },
   "outputs": [],
   "source": [
    "sns.countplot(data=df_cat, order= key_order,x='key')"
   ]
  },
  {
   "cell_type": "markdown",
   "id": "1ad12ca1",
   "metadata": {},
   "source": [
    "The most common keys are C and G."
   ]
  },
  {
   "cell_type": "code",
   "execution_count": null,
   "id": "bd64c3c5",
   "metadata": {},
   "outputs": [],
   "source": [
    "df_cat['m_mode'].value_counts()"
   ]
  },
  {
   "cell_type": "code",
   "execution_count": null,
   "id": "1807bb53",
   "metadata": {},
   "outputs": [],
   "source": [
    "sns.countplot(data= df_cat, x='m_mode')"
   ]
  },
  {
   "cell_type": "markdown",
   "id": "629a0b99",
   "metadata": {},
   "source": [
    "There are more songs that are major keys."
   ]
  },
  {
   "cell_type": "markdown",
   "id": "c3d06dc7",
   "metadata": {},
   "source": [
    "#### Quantitative data"
   ]
  },
  {
   "cell_type": "markdown",
   "id": "34f3926c",
   "metadata": {},
   "source": [
    "We will now conduct analysis on numerical features of the dataset."
   ]
  },
  {
   "cell_type": "code",
   "execution_count": null,
   "id": "48c96e72",
   "metadata": {},
   "outputs": [],
   "source": [
    "# Filtering numerical data.\n",
    "cat_columns= df_cat.columns\n",
    "df_num= df_m.drop(cat_columns, axis=1)"
   ]
  },
  {
   "cell_type": "code",
   "execution_count": null,
   "id": "99262e8a",
   "metadata": {
    "scrolled": true
   },
   "outputs": [],
   "source": [
    "df_num.columns"
   ]
  },
  {
   "cell_type": "code",
   "execution_count": null,
   "id": "eb5c5bde",
   "metadata": {},
   "outputs": [],
   "source": [
    "df_num.describe().T"
   ]
  },
  {
   "cell_type": "code",
   "execution_count": null,
   "id": "3c753c98",
   "metadata": {},
   "outputs": [],
   "source": [
    "df_num.shape"
   ]
  },
  {
   "cell_type": "code",
   "execution_count": null,
   "id": "907e55ca",
   "metadata": {
    "scrolled": true
   },
   "outputs": [],
   "source": [
    "df_num.sort_values('popularity', ascending=False)"
   ]
  },
  {
   "cell_type": "markdown",
   "id": "81b44785",
   "metadata": {},
   "source": [
    "Popularity score should be normalized to better understand its trends and for later use"
   ]
  },
  {
   "cell_type": "code",
   "execution_count": null,
   "id": "1ad06cd6",
   "metadata": {},
   "outputs": [],
   "source": [
    "def score_normalization(score, max_score):\n",
    "    popularity_normalized= 1- score/ max_score\n",
    "    \n",
    "    return popularity_normalized"
   ]
  },
  {
   "cell_type": "markdown",
   "id": "0d987093",
   "metadata": {},
   "source": [
    "The normalized popularity score ranges from 0 to 1, with 1 being the most popular. "
   ]
  },
  {
   "cell_type": "code",
   "execution_count": null,
   "id": "a619977f",
   "metadata": {},
   "outputs": [],
   "source": [
    "df_num['popularity']=df_num['popularity'].apply(lambda x:score_normalization(x,df_num['popularity'].max()))"
   ]
  },
  {
   "cell_type": "markdown",
   "id": "eba3b1b6",
   "metadata": {},
   "source": [
    "Also, no one talks about the durations of songs in ms. Let's convert them into to seconds."
   ]
  },
  {
   "cell_type": "code",
   "execution_count": null,
   "id": "c18181d9",
   "metadata": {},
   "outputs": [],
   "source": [
    "def convert_mstosec(ms_input):\n",
    "    sec_output= ms_input/1000\n",
    "    return sec_output"
   ]
  },
  {
   "cell_type": "code",
   "execution_count": null,
   "id": "558c77ea",
   "metadata": {},
   "outputs": [],
   "source": [
    "df_num['duration']= df_num['duration_ms'].apply(lambda x: convert_mstosec(x))"
   ]
  },
  {
   "cell_type": "code",
   "execution_count": null,
   "id": "fd49a9fd",
   "metadata": {},
   "outputs": [],
   "source": [
    "df_num['duration']"
   ]
  },
  {
   "cell_type": "code",
   "execution_count": null,
   "id": "eae5740f",
   "metadata": {},
   "outputs": [],
   "source": [
    "df_num.drop('duration_ms', axis=1, inplace=True)"
   ]
  },
  {
   "cell_type": "code",
   "execution_count": null,
   "id": "e0cfd4ff",
   "metadata": {},
   "outputs": [],
   "source": [
    "hist= df_num.hist(bins=10, figsize=(16,17))\n",
    "for i, ax in enumerate(hist.ravel()):\n",
    "    ax.set_xlabel(f'{i}')\n",
    "    ax.set_ylabel('Count')"
   ]
  },
  {
   "cell_type": "markdown",
   "id": "654499d3",
   "metadata": {},
   "source": [
    "- Energy and valence have noticeably similar distribution. Danceability, loudness, and energy have similar distribution. \n",
    "\n",
    "- Most top charting songs tend to be short in duration. They tend to have high energy and loudness, around 0.6 and -10dB, respectively. \n",
    "- Most top charting tracks also tend to contain musical vocals(such as singing or rapping),rather than spoken words (as heard in audio books).  \n",
    "- They also scored low \"liveness\", which means they are often polished studio recordings than live performances.\n",
    "- There is lower likelihood that top charting songs are acoustic.\n",
    "- In terms of valence, the highest distribution was seen between 0.25 and 0.75. \n",
    "- Similarly, the highest distribution in danceability was in between 0.5-0.75. \n",
    "- The largest tempo distribution in top charting songswas in between 90 to 150 BPM."
   ]
  },
  {
   "cell_type": "markdown",
   "id": "32c36c67",
   "metadata": {},
   "source": [
    "#### More in-depth look at individual features:"
   ]
  },
  {
   "cell_type": "code",
   "execution_count": null,
   "id": "8131c885",
   "metadata": {},
   "outputs": [],
   "source": [
    "boxplot_dur= df_num.boxplot(column='duration', grid=False, vert=False, fontsize=15)\n",
    "boxplot_dur.set_xlabel('Seconds')"
   ]
  },
  {
   "cell_type": "code",
   "execution_count": null,
   "id": "13aa7855",
   "metadata": {},
   "outputs": [],
   "source": [
    "mean= df_num['duration'].mean()\n",
    "q25, q75= np.percentile(df_num['duration'],[25,75])\n",
    "iqr= np.subtract(q75,q25)\n",
    "maximum= q75+ 1.5*iqr\n",
    "\n",
    "print('mean:',mean)\n",
    "print('maximum', maximum)"
   ]
  },
  {
   "cell_type": "code",
   "execution_count": null,
   "id": "2845aaf3",
   "metadata": {},
   "outputs": [],
   "source": [
    "outliers= df_num[df_num['duration']>maximum]\n",
    "len(outliers)"
   ]
  },
  {
   "cell_type": "markdown",
   "id": "b8977cf2",
   "metadata": {},
   "source": [
    "Top charting songs have mean length of 230.05 sec. Of 586672 songs, 4% of songs(25254 songs) were longer than 397.028 sec. "
   ]
  },
  {
   "cell_type": "code",
   "execution_count": null,
   "id": "997f0251",
   "metadata": {},
   "outputs": [],
   "source": [
    "boxplot_tempo= df_num.boxplot(column='tempo', grid=False, vert=False, fontsize=15)"
   ]
  },
  {
   "cell_type": "code",
   "execution_count": null,
   "id": "9c4c3bed",
   "metadata": {},
   "outputs": [],
   "source": [
    "mean= df_num['tempo'].mean()\n",
    "\n",
    "\n",
    "q25,q75= np.percentile(df_num['tempo'],[25,75])\n",
    "iqr= np.subtract(q75,q25)\n",
    "maximum= q75+ 1.5*iqr\n",
    "\n",
    "print('mean:',mean)\n",
    "print('maximum', maximum)"
   ]
  },
  {
   "cell_type": "code",
   "execution_count": null,
   "id": "94fd9dae",
   "metadata": {},
   "outputs": [],
   "source": [
    "outliers= df_num[df_num['tempo']>maximum]\n",
    "len(outliers)"
   ]
  },
  {
   "cell_type": "markdown",
   "id": "65d5db4a",
   "metadata": {},
   "source": [
    "Top charting songs tend to be medium or faster tempo, with mean tempo of around 120 BPM.  Of 586672 songs, 0.9% of songs(5336 songs) were faster than 197 BPM. "
   ]
  },
  {
   "cell_type": "code",
   "execution_count": null,
   "id": "99efe88a",
   "metadata": {},
   "outputs": [],
   "source": [
    "boxpolot_E= df_num.boxplot(column='energy', grid=False, vert=False, fontsize=15)"
   ]
  },
  {
   "cell_type": "code",
   "execution_count": null,
   "id": "57f91793",
   "metadata": {},
   "outputs": [],
   "source": [
    "mean= df_num['energy'].mean()\n",
    "mode= df_num['energy'].mode()\n",
    "q25,q75= np.percentile(df_num['energy'],[25,75])\n",
    "iqr= np.subtract(q75,q25)\n",
    "minimum= q25- 1.5*iqr\n",
    "maximum= q75+ 1.5*iqr\n",
    "\n",
    "print('mean:',mean)\n",
    "print('minimum:', minimum)\n",
    "print('mode:', mode)"
   ]
  },
  {
   "cell_type": "code",
   "execution_count": null,
   "id": "565607f6",
   "metadata": {},
   "outputs": [],
   "source": [
    "outliers_min= df_num[df_num['energy']<minimum]\n",
    "outliers_max=df_num[df_num['energy']>maximum]\n",
    "print('lower_outlier',len(outliers_min))\n",
    "print('upper_outlier:', len(outliers_max))"
   ]
  },
  {
   "cell_type": "markdown",
   "id": "b4d73ea6",
   "metadata": {},
   "source": [
    "Top charting songs had balanced energy levels across the chart, with mean energy level of 0.542. There was no outlier."
   ]
  },
  {
   "cell_type": "code",
   "execution_count": null,
   "id": "d6c1cd99",
   "metadata": {},
   "outputs": [],
   "source": [
    "boxpolot_live= df_num.boxplot(column='liveness', grid=False, vert=False, fontsize=15)"
   ]
  },
  {
   "cell_type": "code",
   "execution_count": null,
   "id": "c72d707a",
   "metadata": {},
   "outputs": [],
   "source": [
    "mean= df_num['liveness'].mean()\n",
    "\n",
    "q25,q75= np.percentile(df_num['liveness'],[25,75])\n",
    "iqr= np.subtract(q75,q25)\n",
    "maximum= q75+ 1.5*iqr\n",
    "\n",
    "print('mean:',mean)\n",
    "print('maximum', maximum)"
   ]
  },
  {
   "cell_type": "code",
   "execution_count": null,
   "id": "f132bb98",
   "metadata": {},
   "outputs": [],
   "source": [
    "outliers= df_num[df_num['liveness']>maximum]\n",
    "len(outliers)"
   ]
  },
  {
   "cell_type": "markdown",
   "id": "9d67e3f7",
   "metadata": {},
   "source": [
    "Top charting songs tend to be polished studio recording rather than live recording, with mean liveness of 0.2139.\n",
    "Of 586672 songs, around 7% of songs (40987 songs) had liveness more than 0.54755"
   ]
  },
  {
   "cell_type": "code",
   "execution_count": null,
   "id": "95834a04",
   "metadata": {},
   "outputs": [],
   "source": [
    "boxpolot_acoust= df_num.boxplot(column='acousticness', grid=False, vert=False, fontsize=15)"
   ]
  },
  {
   "cell_type": "code",
   "execution_count": null,
   "id": "2cde940d",
   "metadata": {},
   "outputs": [],
   "source": [
    "mean= df_num['acousticness'].mean()\n",
    "\n",
    "q25,q75= np.percentile(df_num['acousticness'],[25,75])\n",
    "iqr= np.subtract(q75,q25)\n",
    "minimum= q25- 1.5*iqr\n",
    "maximum= q75+ 1.5*iqr\n",
    "\n",
    "print('mean:',mean)\n",
    "print('mode:', mode)\n",
    "print('maximum', maximum)\n",
    "print('minimum:', minimum)"
   ]
  },
  {
   "cell_type": "code",
   "execution_count": null,
   "id": "a01529b3",
   "metadata": {
    "scrolled": true
   },
   "outputs": [],
   "source": [
    "outliers_min= df_num[df_num['acousticness']<minimum]\n",
    "outliers_max=df_num[df_num['acousticness']>maximum]\n",
    "print('lower_outlier',len(outliers_min))\n",
    "print('upper_outlier:', len(outliers_max))"
   ]
  },
  {
   "cell_type": "markdown",
   "id": "3fff668b",
   "metadata": {},
   "source": [
    "Top charting songs had mean acousticness of 0.44986. As seen by the plot and the mean closer to the center, there is only slight preference towards non-acoustic song."
   ]
  },
  {
   "cell_type": "code",
   "execution_count": null,
   "id": "1923a636",
   "metadata": {},
   "outputs": [],
   "source": [
    "boxpolot_loud= df_num.boxplot(column='loudness', grid=False, vert=False, fontsize=15)"
   ]
  },
  {
   "cell_type": "code",
   "execution_count": null,
   "id": "80647b9b",
   "metadata": {},
   "outputs": [],
   "source": [
    "mean= df_num['loudness'].mean()\n",
    "mode= df_num['loudness'].mode()\n",
    "q25,q75= np.percentile(df_num['loudness'],[25,75])\n",
    "iqr= np.subtract(q75,q25)\n",
    "maximum= q75+ 1.5*iqr\n",
    "minimum= q25- 1.5*iqr\n",
    "\n",
    "print('mean:',mean)\n",
    "print('mode:', mode)\n",
    "print('maximum', maximum)\n",
    "print('minimum:', minimum)\n"
   ]
  },
  {
   "cell_type": "code",
   "execution_count": null,
   "id": "1c38b9e4",
   "metadata": {},
   "outputs": [],
   "source": [
    "outliers_min= df_num[df_num['loudness']<minimum]\n",
    "outliers_max=df_num[df_num['loudness']>maximum]\n",
    "print('lower_outlier',len(outliers_min))\n",
    "print('upper_outlier:', len(outliers_max))"
   ]
  },
  {
   "cell_type": "markdown",
   "id": "812c5f0b",
   "metadata": {},
   "source": [
    "Top charting songs tend to be loud, with mean loudness of -10.206 dB. Of 586672 songs, only around 2.57% of songs (15096 songs) had loudness quieter thaniveness more than -22.50 dB. This makes sense, given that the Spotify's loudness guideline is around -14 dB. There were also some minor outliers in the other end of extreme, with approximately 0.00006% of songs (35 songs) being louder than 3.13 dB."
   ]
  },
  {
   "cell_type": "markdown",
   "id": "e6fc7ddc",
   "metadata": {},
   "source": [
    "### Visualizing Relationships Between Features"
   ]
  },
  {
   "cell_type": "markdown",
   "id": "f3acda36",
   "metadata": {},
   "source": [
    "We have seen that there are observable patterns in individual features. We will explore if there are relationships between features. I'll categorize correlation between 0.4- 0.7 moderatcorrelation and those over 0.7 strong correlation. I will be rounding up correlations with aboslute values between 0.35- 0.4."
   ]
  },
  {
   "cell_type": "code",
   "execution_count": null,
   "id": "c869b2dc",
   "metadata": {
    "scrolled": true
   },
   "outputs": [],
   "source": [
    "# Heatmap to visualize data relationships\n",
    "plt.figure(figsize=(14,12))\n",
    "sns.heatmap(df.corr(), linewidths=.1, cmap='YlGnBu', annot=True)\n",
    "plt.yticks(rotation=0)"
   ]
  },
  {
   "cell_type": "markdown",
   "id": "155819f5",
   "metadata": {},
   "source": [
    "#### Strong positive correlations:\n",
    "energy: loudness (0.76)\n",
    "\n",
    "#### Moderate correlations:\n",
    "valence: danceability (0.53)\n",
    "<br> valence: energy(0.37)\n",
    "\n",
    "#### Strong negative correaltions:\n",
    "energy: acousticness (-0.72)\n",
    "\n",
    "#### Moderate negative correlations:\n",
    "loudness: acousticness (-0.52)\n",
    "<br> acousticness: popularity (-0.37)\n",
    "\n"
   ]
  },
  {
   "cell_type": "code",
   "execution_count": null,
   "id": "d03b6a13",
   "metadata": {
    "scrolled": true
   },
   "outputs": [],
   "source": [
    "g= sns.pairplot(df_num, palette= 'Set1')\n",
    "plt.show()"
   ]
  },
  {
   "cell_type": "markdown",
   "id": "5ea4d061",
   "metadata": {},
   "source": [
    "Not much correlation was seen in the data. This is to be expected, given how much music changes in a century. Let's try breaking down the data by year."
   ]
  },
  {
   "cell_type": "code",
   "execution_count": null,
   "id": "e253b8cb",
   "metadata": {},
   "outputs": [],
   "source": [
    "df_num['year']= pd.DatetimeIndex(df_num['release_date']).year"
   ]
  },
  {
   "cell_type": "code",
   "execution_count": null,
   "id": "5e6af8ac",
   "metadata": {},
   "outputs": [],
   "source": [
    "year_list= df_num['year'].unique().tolist()\n",
    "year_list.sort()\n",
    "\n",
    "data_year=[]\n",
    "for i in range(len(year_list)):\n",
    "    data_year.append(df_num[df_num['year']== year_list[i]])"
   ]
  },
  {
   "cell_type": "code",
   "execution_count": null,
   "id": "2cdecb82",
   "metadata": {
    "scrolled": true
   },
   "outputs": [],
   "source": [
    "len(data_year)"
   ]
  },
  {
   "cell_type": "markdown",
   "id": "0a41fa8e",
   "metadata": {},
   "source": [
    "The earliest data we have is from 1900. While one may expect music from 1900 to be significantly different from 1922, let's examine it."
   ]
  },
  {
   "cell_type": "code",
   "execution_count": null,
   "id": "f06c9860",
   "metadata": {
    "scrolled": true
   },
   "outputs": [],
   "source": [
    "# Heatmap to visualize data relationships\n",
    "# Heatmap to visualize data relationships\n",
    "df_noyear=data_year[0].drop('year', axis=1)\n",
    "\n",
    "plt.figure(figsize=(14,12))\n",
    "sns.heatmap(df_noyear.corr(), linewidths=.1, cmap='YlGnBu', annot=True)\n",
    "plt.title(label=f\"Correlation Matrix for Year: {year_list[0]}\")\n",
    "plt.yticks(rotation=0)\n"
   ]
  },
  {
   "cell_type": "markdown",
   "id": "75894b74",
   "metadata": {},
   "source": [
    "It seems like there isn't much to dissect from 1900. Onto the next year!"
   ]
  },
  {
   "cell_type": "code",
   "execution_count": null,
   "id": "905ee3cd",
   "metadata": {},
   "outputs": [],
   "source": [
    "# Heatmap to visualize data relationships\n",
    "df_noyear=data_year[1].drop('year', axis=1)\n",
    "\n",
    "plt.figure(figsize=(14,12))\n",
    "sns.heatmap(df_noyear.corr(), linewidths=.1, cmap='YlGnBu', annot=True)\n",
    "plt.title(label=f\"Correlation Matrix for Year: {year_list[1]}\")\n",
    "plt.yticks(rotation=0)"
   ]
  },
  {
   "cell_type": "markdown",
   "id": "4fc9f503",
   "metadata": {},
   "source": [
    "#### Strong positive correlations:\n",
    "energy: loudness (0.75)\n",
    "\n",
    "#### Moderate positive correlations:\n",
    "loudness: duration (0.55)\n",
    "<br> acousticness: duration (0.51)\n",
    "<br> valence: danceability (0.55)\n",
    "<br> speechiness: danceability (0.53)\n",
    "<br> valence: energy(0.4)\n",
    "\n",
    "#### Strong negative correaltions:\n",
    "energy: acousticness (-0.72)\n",
    "\n",
    "#### Moderate negative correlations:\n",
    "loudness: acousticness (-0.52)\n",
    "<br> acousticness: popularity (-0.37)\n",
    "\n",
    "\n"
   ]
  },
  {
   "cell_type": "markdown",
   "id": "979bb6f6",
   "metadata": {},
   "source": [
    "While it is nice to be able to visualize correlations, it will be a bit much to do so for 101 years of data. I'll simply extract features, correlation values, and year. "
   ]
  },
  {
   "cell_type": "markdown",
   "id": "d92d589a",
   "metadata": {},
   "source": [
    "# I want to iterate through different years, create a dataframe with four columns: 1st feature, 2nd feature, correlation, and year of the data. Drop 'Negligible'."
   ]
  },
  {
   "cell_type": "code",
   "execution_count": 2,
   "id": "b6f253ba",
   "metadata": {},
   "outputs": [],
   "source": [
    "df_corr= pd.DataFrame(columns=['feature_1', 'feature_2', 'corr_value', 'corr_strength','year']).set_index('year')"
   ]
  },
  {
   "cell_type": "code",
   "execution_count": 7,
   "id": "0199ee8f",
   "metadata": {},
   "outputs": [
    {
     "data": {
      "text/plain": [
       "pandas.core.series.Series"
      ]
     },
     "execution_count": 7,
     "metadata": {},
     "output_type": "execute_result"
    }
   ],
   "source": [
    "type(df_corr['corr_strength'])"
   ]
  },
  {
   "cell_type": "code",
   "execution_count": 3,
   "id": "19437626",
   "metadata": {},
   "outputs": [],
   "source": [
    "df_corr['corr_strength']= None"
   ]
  },
  {
   "cell_type": "code",
   "execution_count": 6,
   "id": "563c24fb",
   "metadata": {},
   "outputs": [
    {
     "ename": "NameError",
     "evalue": "name 'var' is not defined",
     "output_type": "error",
     "traceback": [
      "\u001b[0;31m---------------------------------------------------------------------------\u001b[0m",
      "\u001b[0;31mNameError\u001b[0m                                 Traceback (most recent call last)",
      "\u001b[0;32m/var/folders/z9/t15ddpld70nc5qf41442lpr80000gn/T/ipykernel_1683/3546611018.py\u001b[0m in \u001b[0;36m<module>\u001b[0;34m\u001b[0m\n\u001b[0;32m----> 1\u001b[0;31m \u001b[0mvar\u001b[0m\u001b[0;34m.\u001b[0m\u001b[0mdtypes\u001b[0m\u001b[0;34m\u001b[0m\u001b[0;34m\u001b[0m\u001b[0m\n\u001b[0m",
      "\u001b[0;31mNameError\u001b[0m: name 'var' is not defined"
     ]
    }
   ],
   "source": [
    "var.dtypes"
   ]
  },
  {
   "cell_type": "code",
   "execution_count": null,
   "id": "3a73a599",
   "metadata": {
    "scrolled": true
   },
   "outputs": [],
   "source": [
    "corr_mat=data_year[1].corr()\n",
    "corr_mat"
   ]
  },
  {
   "cell_type": "code",
   "execution_count": null,
   "id": "a0c44f62",
   "metadata": {},
   "outputs": [],
   "source": [
    "corr_mat=data_year[1].corr()\n",
    "pairs = corr_mat.stack()\n",
    "high_pairs= pairs[(pairs>0.7)& (pairs!=1)].drop_duplicates()\n",
    "\n",
    "high_pairs\n",
    "\n",
    "corr_feat= df_corr[df_corr==high_pairs]\n",
    "corr_feat.columns"
   ]
  },
  {
   "cell_type": "code",
   "execution_count": null,
   "id": "5d141c05",
   "metadata": {},
   "outputs": [],
   "source": [
    "variables= df_num.columns"
   ]
  },
  {
   "cell_type": "code",
   "execution_count": null,
   "id": "cf27c91a",
   "metadata": {},
   "outputs": [],
   "source": [
    "columns=['feature_1', 'feature_2', 'corr_value', 'corr_strength','year']\n",
    "feature_list=[]\n",
    "\n",
    "for year in range(len(data_year)):\n",
    "    \n",
    "    corr_mat= data_year[year].corr()\n",
    "    pairs = corr_mat.stack()\n",
    "    \n",
    "    for i in pairs:\n",
    "        # Correlation value\n",
    "        df_corr['corr_value']= i\n",
    "        \n",
    "             # Feature 1\n",
    "        corr_feat= df_corr[df_corr==i]\n",
    "        feature_1, feature_2 = corr_feat.columns\n",
    "        df_corr['feature_1', 'feature_2'] = df_corr.update(feature_1, feature_2)\n",
    "\n",
    "        \n",
    "        # Correlation strength\n",
    "        if (i>0.7)& (i !=1):\n",
    "            df_corr['corr_strength']= 'Strong Positive'\n",
    "        elif (i <0.7) & (i>0.4):\n",
    "            df_corr['corr_strength']= 'Moderate Postive'\n",
    "        elif (i> -0.7)& (i != -1):\n",
    "            df_corr['corr_strength']= 'Strong Negative'\n",
    "        elif (i< -0.7) & (i> -0.4):\n",
    "            df_corr['corr_strength']= 'Moderate Negative'\n",
    "        else:\n",
    "            df_corr['corr_strength']= 'Negligible'\n",
    "\n",
    "    \n",
    "\n",
    "        # Feature 2\n",
    "    #     df_corr['feature_2']= corr_mat.apply(lambda column: column[column== pairs[i]], axis=0)\n",
    "    \n",
    "        \n",
    "\n",
    "\n",
    "    # Year\n",
    "    df_corr['year'] =year_list[year]"
   ]
  },
  {
   "cell_type": "markdown",
   "id": "9a1709fc",
   "metadata": {},
   "source": [
    "Let's see if there is a trend amongst correlations as well. "
   ]
  },
  {
   "cell_type": "markdown",
   "id": "7b1cc01b",
   "metadata": {},
   "source": [
    "## Correlations:\n",
    "The findings from EDA revealed that the strongest correlation lies between energy and loudness (r=0.76). This makes intuitive sense, because loud music (i.e. hip hop and EDM) are associated with more energy.\n",
    "\n",
    "<br> There is also moderate positive correlations between valence and danceability (r= 0.53). This also makes intuitive sense, as people are more likely to dance to \"happy\" or \"fun\" songs. Another positive correlation was seeen in valence and energy (r= 0.37). This also makes sense as those songs that convey \"fun\" emotions also tend to be more energetic. \n",
    "\n",
    "<br>There was a strong negative correlation between energy and acousticness (r= -0.72). This also makes intuitive sense, as acoustic versions of songs tend to be more relaxed in arrangement and overall texture/quality. This is further supported by moderate negative correlation between acousticness and loudness. More acoustic a song is, quieter it is. \n",
    "\n",
    "<br>There isn't any particular feature that has strong positive correlation with popularity. Energy and loudness have weak positive correlation with popularity, with r= 0.3 andr= 0.33, respectively. This makes sense as loud music is perceived to be better.There is also a moderate negative correlation between popularity and acousticness (-0.37). \n"
   ]
  }
 ],
 "metadata": {
  "kernelspec": {
   "display_name": "Python 3 (ipykernel)",
   "language": "python",
   "name": "python3"
  },
  "language_info": {
   "codemirror_mode": {
    "name": "ipython",
    "version": 3
   },
   "file_extension": ".py",
   "mimetype": "text/x-python",
   "name": "python",
   "nbconvert_exporter": "python",
   "pygments_lexer": "ipython3",
   "version": "3.9.12"
  }
 },
 "nbformat": 4,
 "nbformat_minor": 5
}
